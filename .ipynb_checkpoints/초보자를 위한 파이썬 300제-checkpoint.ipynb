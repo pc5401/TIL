{
 "cells": [
  {
   "cell_type": "markdown",
   "id": "63176986",
   "metadata": {},
   "source": [
    "초보자를 위한 파이썬 300제 학습 START!\n",
    "================================\n",
    "\n",
    "링크 : https://wikidocs.net/book/922"
   ]
  },
  {
   "cell_type": "markdown",
   "id": "9e808b04",
   "metadata": {},
   "source": [
    "## 01. 파이썬 시작하기 001~010)"
   ]
  },
  {
   "cell_type": "code",
   "execution_count": 1,
   "id": "78848a50",
   "metadata": {},
   "outputs": [
    {
     "name": "stdout",
     "output_type": "stream",
     "text": [
      "Hello World\n"
     ]
    }
   ],
   "source": [
    "# 001\n",
    "print('Hello World')"
   ]
  },
  {
   "cell_type": "code",
   "execution_count": 2,
   "id": "71575d72",
   "metadata": {},
   "outputs": [
    {
     "name": "stdout",
     "output_type": "stream",
     "text": [
      "Mary's cosmetics\n"
     ]
    }
   ],
   "source": [
    "# 002\n",
    "print('Mary\\'s cosmetics')"
   ]
  },
  {
   "cell_type": "markdown",
   "id": "d926d80a",
   "metadata": {},
   "source": [
    "### 이스케이프 핵심 코드 정리\n",
    "\n",
    "- \\n:문자열 안에서 줄을 바꿀 때 사용\n",
    "- \\t:\t|문자열 사이에 탭 간격을 줄 때 사용\n",
    "- \\\\:\t문자 \\를 그대로 표현할 때 사용\n",
    "- \\':\t|작은따옴표(')를 그대로 표현할 때 사용\n",
    "- \\\":\t큰따옴표(\")를 그대로 표현할 때 사용\n"
   ]
  },
  {
   "cell_type": "code",
   "execution_count": 5,
   "id": "6fbfa954",
   "metadata": {},
   "outputs": [
    {
     "name": "stdout",
     "output_type": "stream",
     "text": [
      "신씨가 소리질렀다. \"도둑이야\".\n"
     ]
    }
   ],
   "source": [
    "#003\n",
    "print('신씨가 소리질렀다. \"도둑이야\".')"
   ]
  },
  {
   "cell_type": "code",
   "execution_count": 6,
   "id": "ed414138",
   "metadata": {},
   "outputs": [
    {
     "name": "stdout",
     "output_type": "stream",
     "text": [
      "\"C:\\Windows\"\n"
     ]
    }
   ],
   "source": [
    "#004\n",
    "print('\"C:\\\\Windows\"')"
   ]
  },
  {
   "cell_type": "code",
   "execution_count": 7,
   "id": "6154f01e",
   "metadata": {},
   "outputs": [
    {
     "name": "stdout",
     "output_type": "stream",
     "text": [
      "안녕하세요.\n",
      "만나서\t\t반갑습니다.\n"
     ]
    }
   ],
   "source": [
    "#005\n",
    "print(\"안녕하세요.\\n만나서\\t\\t반갑습니다.\")\n",
    "\n",
    "# \\n 은 문장을 줄바꿈(Enter)을 하는 이스케이프 코드\n",
    "# \\t 는 들여쓰기(Tab)을 하는 이스케이프 코드"
   ]
  },
  {
   "cell_type": "code",
   "execution_count": 8,
   "id": "0e616267",
   "metadata": {},
   "outputs": [
    {
     "name": "stdout",
     "output_type": "stream",
     "text": [
      "오늘은 일요일\n"
     ]
    }
   ],
   "source": [
    "#006\n",
    "print (\"오늘은\", \"일요일\")\n",
    "# 오늘은 일요일 : 시이에 띄어쓰기"
   ]
  },
  {
   "cell_type": "code",
   "execution_count": 13,
   "id": "4ff1d35a",
   "metadata": {},
   "outputs": [
    {
     "name": "stdout",
     "output_type": "stream",
     "text": [
      "naver,kakao,sk,samsung\n"
     ]
    }
   ],
   "source": [
    "#007\n",
    "print('naver','kakao','sk','samsung', sep =',')\n"
   ]
  },
  {
   "cell_type": "markdown",
   "id": "853e9733",
   "metadata": {},
   "source": [
    "### print() 함수 정리\n",
    "\n",
    "- print는 내장함수로 'sep', 'end', 'file' 을 지정인자로 가지고 있다.\n",
    "    - 'sep'은 기본값이 \"sep=''\" 공백이고, 'end'는 \"end = '\\n'\"으로 줄바꿈(개행)이다.\n",
    "    - file'은 출력 결과를 파일, 표준에러처리로 보낼 수 있다.\n",
    "    \n",
    "- 다양한 이스케이프 코드를 이용해서 문장을 표현할 수 있다.(위에 참고)\n",
    "    - ex) print('first \\n second')\n",
    "        - first\n",
    "        - second\n",
    "    - 그 외 \\\\, \\',\\\",\\t 등이 있다.\n",
    "    \n",
    "- '+', ',' 로 문자열(혹은 단어)을 합쳐서 출력할 수 있다.\n",
    "    - '+'은 공백이 없지만, ','은 공백이 있다.\n",
    "    \n",
    "- 문자열이 길 경우 '\\'이 하나를 이용해서 화면상으로만 개행해서 입력할 수 있다. (출력은 연결된 상태)\n",
    "    - print('Hello world. I like python. \n",
    "        \\ because python is simple')\n",
    "        - 출력 : Hello world. I like python. because python is simple\n",
    "- '''(혹은 \"\"\")으로 양쪽을 묶어서 줄바꿈(개행)을 표현할 수도 있다. (출력 시 줄바꿈도 같이 표현됨) \n",
    "    - print('''Hello world. I like python. \n",
    "        because python is simple''')\n",
    "        - 출력 : Hello world. I like python.\n",
    "            - because python is simple\n",
    "            \n",
    "- 또한 %와 format, 그리고 f스트링으로 소수점과 정렬 그리고 변수 등을 이용해서 출력할 수 있다.(차후에)\n"
   ]
  },
  {
   "cell_type": "code",
   "execution_count": 25,
   "id": "a07f0c79",
   "metadata": {},
   "outputs": [
    {
     "name": "stdout",
     "output_type": "stream",
     "text": [
      "naver/kakao/sk/samsung\n"
     ]
    }
   ],
   "source": [
    "# 008\n",
    "print('naver','kakao','sk','samsung', sep ='/')"
   ]
  },
  {
   "cell_type": "code",
   "execution_count": 26,
   "id": "db4f2240",
   "metadata": {},
   "outputs": [
    {
     "name": "stdout",
     "output_type": "stream",
     "text": [
      "firstsecond\n"
     ]
    }
   ],
   "source": [
    "# 009\n",
    "print(\"first\",end = ''); print(\"second\")"
   ]
  },
  {
   "cell_type": "code",
   "execution_count": 27,
   "id": "db5edc12",
   "metadata": {},
   "outputs": [
    {
     "name": "stdout",
     "output_type": "stream",
     "text": [
      "1.6666666666666667\n"
     ]
    }
   ],
   "source": [
    "# 010\n",
    "print(5/3)"
   ]
  },
  {
   "cell_type": "markdown",
   "id": "038ab484",
   "metadata": {},
   "source": [
    "## 파이썬 변수 (011~020)"
   ]
  },
  {
   "cell_type": "code",
   "execution_count": 28,
   "id": "252155ff",
   "metadata": {},
   "outputs": [
    {
     "name": "stdout",
     "output_type": "stream",
     "text": [
      "500000\n"
     ]
    }
   ],
   "source": [
    "# 011\n",
    "samsung = 50000\n",
    "print(samsung * 10)"
   ]
  },
  {
   "cell_type": "code",
   "execution_count": 29,
   "id": "e528132e",
   "metadata": {},
   "outputs": [
    {
     "name": "stdout",
     "output_type": "stream",
     "text": [
      "298000000000000 <class 'int'>\n",
      "50000 <class 'int'>\n",
      "15.79 <class 'float'>\n"
     ]
    }
   ],
   "source": [
    "# 012\n",
    "시가총액 = 298000000000000\n",
    "현재가 = 50000\n",
    "per = 15.79\n",
    "print(시가총액, type(시가총액))\n",
    "print(현재가, type(현재가))\n",
    "print(per, type(per))"
   ]
  },
  {
   "cell_type": "code",
   "execution_count": 30,
   "id": "2d39766b",
   "metadata": {},
   "outputs": [
    {
     "name": "stdout",
     "output_type": "stream",
     "text": [
      "hello! python\n"
     ]
    }
   ],
   "source": [
    "# 013\n",
    "s = 'hello'\n",
    "t = 'python'\n",
    "print(s + '! '+t)"
   ]
  },
  {
   "cell_type": "code",
   "execution_count": 31,
   "id": "e0e82a37",
   "metadata": {},
   "outputs": [
    {
     "name": "stdout",
     "output_type": "stream",
     "text": [
      "8\n"
     ]
    }
   ],
   "source": [
    "# 014\n",
    "print(2+2*3)"
   ]
  },
  {
   "cell_type": "code",
   "execution_count": 33,
   "id": "bfb0f971",
   "metadata": {},
   "outputs": [
    {
     "name": "stdout",
     "output_type": "stream",
     "text": [
      "132 <class 'str'>\n"
     ]
    }
   ],
   "source": [
    "# 015\n",
    "a = '132'\n",
    "# a는 문자열(str)\n",
    "print(a,type(a))"
   ]
  },
  {
   "cell_type": "code",
   "execution_count": 34,
   "id": "fe6bf6bc",
   "metadata": {},
   "outputs": [
    {
     "name": "stdout",
     "output_type": "stream",
     "text": [
      "720 <class 'str'>\n",
      "720 <class 'int'>\n"
     ]
    }
   ],
   "source": [
    "# 016\n",
    "num_str = '720'\n",
    "num_int = int(num_str)\n",
    "print(num_str, type(num_str))\n",
    "print(num_int, type(num_int))"
   ]
  },
  {
   "cell_type": "code",
   "execution_count": 35,
   "id": "669d0129",
   "metadata": {},
   "outputs": [
    {
     "name": "stdout",
     "output_type": "stream",
     "text": [
      "100 <class 'int'>\n",
      "100 <class 'str'>\n"
     ]
    }
   ],
   "source": [
    "# 017\n",
    "num = 100\n",
    "num_str = str(100)\n",
    "\n",
    "print(num, type(num))\n",
    "print(num_str,type(num_str))"
   ]
  },
  {
   "cell_type": "code",
   "execution_count": 37,
   "id": "fa4ae1b1",
   "metadata": {},
   "outputs": [
    {
     "name": "stdout",
     "output_type": "stream",
     "text": [
      "15.79 <class 'str'>\n",
      "15.79 <class 'float'>\n"
     ]
    }
   ],
   "source": [
    "#018\n",
    "num_str = '15.79'\n",
    "num_float = float(num_str)\n",
    "print(num_str,type(num_str))\n",
    "print(num_float, type(num_float))"
   ]
  },
  {
   "cell_type": "code",
   "execution_count": 40,
   "id": "56e388e4",
   "metadata": {},
   "outputs": [
    {
     "name": "stdout",
     "output_type": "stream",
     "text": [
      "2020 2021 2022\n"
     ]
    }
   ],
   "source": [
    "#019\n",
    "year = '2020'\n",
    "year = int(year)\n",
    "print(year, year+1,year+2)"
   ]
  },
  {
   "cell_type": "code",
   "execution_count": 41,
   "id": "d1877a76",
   "metadata": {},
   "outputs": [
    {
     "name": "stdout",
     "output_type": "stream",
     "text": [
      "1749024\n"
     ]
    }
   ],
   "source": [
    "#020\n",
    "m_cost = 48584\n",
    "m = 36\n",
    "total_cost = m * m_cost\n",
    "print(total_cost)"
   ]
  },
  {
   "cell_type": "markdown",
   "id": "ecbe1b4f",
   "metadata": {},
   "source": [
    "## 파이썬 문자열 (021~050)"
   ]
  },
  {
   "cell_type": "code",
   "execution_count": 43,
   "id": "ea35bd38",
   "metadata": {},
   "outputs": [
    {
     "name": "stdout",
     "output_type": "stream",
     "text": [
      "p t\n"
     ]
    }
   ],
   "source": [
    "# 021\n",
    "letters = 'python'\n",
    "print(letters[0],letters[2])"
   ]
  },
  {
   "cell_type": "code",
   "execution_count": 46,
   "id": "620bad7a",
   "metadata": {},
   "outputs": [
    {
     "name": "stdout",
     "output_type": "stream",
     "text": [
      "2210\n",
      "2210\n"
     ]
    }
   ],
   "source": [
    "# 022\n",
    "license_plate = \"24가 2210\"\n",
    "print(license_plate[4:])\n",
    "print(license_plate[-4:])"
   ]
  },
  {
   "cell_type": "code",
   "execution_count": 45,
   "id": "e7ddb1dc",
   "metadata": {},
   "outputs": [
    {
     "name": "stdout",
     "output_type": "stream",
     "text": [
      "홀홀홀\n"
     ]
    }
   ],
   "source": [
    "#023\n",
    "string = \"홀짝홀짝홀짝\"\n",
    "print(string[::2])"
   ]
  },
  {
   "cell_type": "code",
   "execution_count": 48,
   "id": "24f09072",
   "metadata": {},
   "outputs": [
    {
     "name": "stdout",
     "output_type": "stream",
     "text": [
      "NOHTYP\n"
     ]
    }
   ],
   "source": [
    "#024\n",
    "string = \"PYTHON\"\n",
    "print(string[::-1])"
   ]
  },
  {
   "cell_type": "code",
   "execution_count": 50,
   "id": "1af3077a",
   "metadata": {},
   "outputs": [
    {
     "name": "stdout",
     "output_type": "stream",
     "text": [
      "010 1111 2222\n"
     ]
    }
   ],
   "source": [
    "#025\n",
    "phone_number = \"010-1111-2222\"\n",
    "new_phone_number = phone_number.replace('-',' ')\n",
    "print(new_phone_number)"
   ]
  },
  {
   "cell_type": "code",
   "execution_count": 51,
   "id": "626c48d8",
   "metadata": {},
   "outputs": [
    {
     "name": "stdout",
     "output_type": "stream",
     "text": [
      "01011112222\n"
     ]
    }
   ],
   "source": [
    "#026\n",
    "phone_number_new = phone_number.replace('-','')\n",
    "print(phone_number_new)"
   ]
  },
  {
   "cell_type": "code",
   "execution_count": 54,
   "id": "9e6e7cbe",
   "metadata": {},
   "outputs": [
    {
     "name": "stdout",
     "output_type": "stream",
     "text": [
      "kr\n",
      "kr\n"
     ]
    }
   ],
   "source": [
    "# 027\n",
    "url = \"http://sharebook.kr\"\n",
    "print(url[-2:])\n",
    "\n",
    "# 풀이는 split을 요구함\n",
    "url_split = url.split('.')\n",
    "print(url_split[-1])"
   ]
  },
  {
   "cell_type": "code",
   "execution_count": 56,
   "id": "39de188b",
   "metadata": {},
   "outputs": [
    {
     "ename": "TypeError",
     "evalue": "'str' object does not support item assignment",
     "output_type": "error",
     "traceback": [
      "\u001b[1;31m---------------------------------------------------------------------------\u001b[0m",
      "\u001b[1;31mTypeError\u001b[0m                                 Traceback (most recent call last)",
      "Input \u001b[1;32mIn [56]\u001b[0m, in \u001b[0;36m<module>\u001b[1;34m\u001b[0m\n\u001b[0;32m      1\u001b[0m \u001b[38;5;66;03m#028\u001b[39;00m\n\u001b[0;32m      2\u001b[0m lang \u001b[38;5;241m=\u001b[39m \u001b[38;5;124m'\u001b[39m\u001b[38;5;124mpython\u001b[39m\u001b[38;5;124m'\u001b[39m\n\u001b[1;32m----> 3\u001b[0m lang[\u001b[38;5;241m0\u001b[39m] \u001b[38;5;241m=\u001b[39m \u001b[38;5;124m'\u001b[39m\u001b[38;5;124mP\u001b[39m\u001b[38;5;124m'\u001b[39m\n\u001b[0;32m      4\u001b[0m \u001b[38;5;28mprint\u001b[39m(lang)\n",
      "\u001b[1;31mTypeError\u001b[0m: 'str' object does not support item assignment"
     ]
    }
   ],
   "source": [
    "#028\n",
    "lang = 'python'\n",
    "lang[0] = 'P'\n",
    "print(lang)\n",
    "\n",
    "# str은 immutalbe 이다. 바꿀 수 없다."
   ]
  },
  {
   "cell_type": "code",
   "execution_count": 58,
   "id": "ebfbb872",
   "metadata": {},
   "outputs": [
    {
     "name": "stdout",
     "output_type": "stream",
     "text": [
      "Abcdfe2A354A32A\n"
     ]
    }
   ],
   "source": [
    "#029\n",
    "string = 'abcdfe2a354a32a'\n",
    "print(string.replace('a','A'))"
   ]
  },
  {
   "cell_type": "code",
   "execution_count": 60,
   "id": "c4c6d1c7",
   "metadata": {},
   "outputs": [
    {
     "name": "stdout",
     "output_type": "stream",
     "text": [
      "abcd\n"
     ]
    }
   ],
   "source": [
    "#030\n",
    "string = 'abcd'\n",
    "string.replace('b', 'B')\n",
    "print(string)\n",
    "# str은 immutalbe 이다. 바꿀 수 없다.\n",
    "# 029처럼 다시 변수를 선언해야한다."
   ]
  },
  {
   "cell_type": "code",
   "execution_count": 62,
   "id": "654a9a8d",
   "metadata": {},
   "outputs": [
    {
     "name": "stdout",
     "output_type": "stream",
     "text": [
      "34\n"
     ]
    }
   ],
   "source": [
    "#031\n",
    "a = \"3\"\n",
    "b = \"4\"\n",
    "print(a + b)\n",
    "\n",
    "#'34' 라고 출력된다. 그리고 print() 할 때는 새로운 문자열이 생성되고 그 값을 출력하는 것."
   ]
  },
  {
   "cell_type": "code",
   "execution_count": 63,
   "id": "b0513022",
   "metadata": {},
   "outputs": [
    {
     "name": "stdout",
     "output_type": "stream",
     "text": [
      "HiHiHi\n"
     ]
    }
   ],
   "source": [
    "#032\n",
    "print(\"Hi\" * 3)"
   ]
  },
  {
   "cell_type": "code",
   "execution_count": 64,
   "id": "b9ed0c69",
   "metadata": {},
   "outputs": [
    {
     "name": "stdout",
     "output_type": "stream",
     "text": [
      "--------------------------------------------------------------------------------\n"
     ]
    }
   ],
   "source": [
    "#033\n",
    "print('-'*80)"
   ]
  },
  {
   "cell_type": "code",
   "execution_count": 66,
   "id": "74ad08bc",
   "metadata": {},
   "outputs": [
    {
     "name": "stdout",
     "output_type": "stream",
     "text": [
      "python java python java python java python java \n"
     ]
    }
   ],
   "source": [
    "#034\n",
    "t1 = 'python'\n",
    "t2 = 'java'\n",
    "print((t1+' '+t2 + ' ') *4)"
   ]
  },
  {
   "cell_type": "code",
   "execution_count": 72,
   "id": "7eff18ae",
   "metadata": {},
   "outputs": [
    {
     "name": "stdout",
     "output_type": "stream",
     "text": [
      "이름: 김민수 나이: 10\n",
      "이름: 이철희 나이: 13\n"
     ]
    }
   ],
   "source": [
    "#035\n",
    "name1 = \"김민수\" \n",
    "age1 = 10\n",
    "name2 = \"이철희\"\n",
    "age2 = 13\n",
    "\n",
    "# % formatting\n",
    "print('이름: %s 나이: %d'% (name1,age1))\n",
    "print('이름: %s 나이: %d'% (name2,age2))"
   ]
  },
  {
   "cell_type": "code",
   "execution_count": 73,
   "id": "07cfecd8",
   "metadata": {},
   "outputs": [
    {
     "name": "stdout",
     "output_type": "stream",
     "text": [
      "이름: 김민수 나이: 10\n",
      "이름: 이철희 나이: 13\n"
     ]
    }
   ],
   "source": [
    "#036\n",
    "# format 함수\n",
    "print('이름: {0} 나이: {1}'.format(name1,age1))\n",
    "print('이름: {0} 나이: {1}'.format(name2,age2))"
   ]
  },
  {
   "cell_type": "code",
   "execution_count": 74,
   "id": "34220031",
   "metadata": {},
   "outputs": [
    {
     "name": "stdout",
     "output_type": "stream",
     "text": [
      "이름: 김민수 나이: 10\n",
      "이름: 이철희 나이: 13\n"
     ]
    }
   ],
   "source": [
    "#037\n",
    "#f f문자열\n",
    "print(f'이름: {name1} 나이: {age1}')\n",
    "print(f'이름: {name2} 나이: {age2}')"
   ]
  },
  {
   "cell_type": "code",
   "execution_count": 77,
   "id": "1916b798",
   "metadata": {},
   "outputs": [
    {
     "name": "stdout",
     "output_type": "stream",
     "text": [
      "5969782550 <class 'int'>\n"
     ]
    }
   ],
   "source": [
    "#038\n",
    "상장주식수 = \"5,969,782,550\"\n",
    "상장주식수_int = int(상장주식수.replace(',',''))\n",
    "print(상장주식수_int,type(상장주식수_int))"
   ]
  },
  {
   "cell_type": "code",
   "execution_count": 80,
   "id": "54e94658",
   "metadata": {},
   "outputs": [
    {
     "name": "stdout",
     "output_type": "stream",
     "text": [
      "2020/03\n"
     ]
    }
   ],
   "source": [
    "#039\n",
    "분기 = \"2020/03(E) (IFRS연결)\"\n",
    "new_분기 = 분기.split('(')\n",
    "print(new_분기[0])"
   ]
  },
  {
   "cell_type": "code",
   "execution_count": 81,
   "id": "fed91c73",
   "metadata": {},
   "outputs": [
    {
     "name": "stdout",
     "output_type": "stream",
     "text": [
      "삼성전자\n"
     ]
    }
   ],
   "source": [
    "#040\n",
    "data = \"   삼성전자    \"\n",
    "print(data.strip())"
   ]
  },
  {
   "cell_type": "code",
   "execution_count": 82,
   "id": "392dbb8f",
   "metadata": {},
   "outputs": [
    {
     "name": "stdout",
     "output_type": "stream",
     "text": [
      "BTC_KRW\n"
     ]
    }
   ],
   "source": [
    "#041\n",
    "ticker = \"btc_krw\"\n",
    "TICKER = ticker.upper()\n",
    "print(TICKER)"
   ]
  },
  {
   "cell_type": "code",
   "execution_count": 83,
   "id": "22775820",
   "metadata": {},
   "outputs": [
    {
     "name": "stdout",
     "output_type": "stream",
     "text": [
      "btc_krw\n"
     ]
    }
   ],
   "source": [
    "#042\n",
    "ticker = \"BTC_KRW\"\n",
    "print(ticker.lower())"
   ]
  },
  {
   "cell_type": "code",
   "execution_count": 90,
   "id": "980b21e2",
   "metadata": {},
   "outputs": [
    {
     "name": "stdout",
     "output_type": "stream",
     "text": [
      "Hello\n"
     ]
    }
   ],
   "source": [
    "#043\n",
    "print('hello'.capitalize())"
   ]
  },
  {
   "cell_type": "code",
   "execution_count": 91,
   "id": "abf99b45",
   "metadata": {},
   "outputs": [
    {
     "name": "stdout",
     "output_type": "stream",
     "text": [
      "True\n"
     ]
    }
   ],
   "source": [
    "#044\n",
    "file_name = \"보고서.xlsx\"\n",
    "print(file_name.endswith('xlsx'))"
   ]
  },
  {
   "cell_type": "code",
   "execution_count": 92,
   "id": "34cc6179",
   "metadata": {},
   "outputs": [
    {
     "name": "stdout",
     "output_type": "stream",
     "text": [
      "True\n"
     ]
    }
   ],
   "source": [
    "#045\n",
    "file_name = \"보고서.xlsx\"\n",
    "print(file_name.endswith('xlsx'or 'xls'))"
   ]
  },
  {
   "cell_type": "code",
   "execution_count": 93,
   "id": "c58dc681",
   "metadata": {},
   "outputs": [
    {
     "name": "stdout",
     "output_type": "stream",
     "text": [
      "True\n"
     ]
    }
   ],
   "source": [
    "# 046\n",
    "file_name = \"2020_보고서.xlsx\"\n",
    "print(file_name.startswith('2020'))\n"
   ]
  },
  {
   "cell_type": "code",
   "execution_count": 94,
   "id": "ca8aa1dc",
   "metadata": {},
   "outputs": [
    {
     "name": "stdout",
     "output_type": "stream",
     "text": [
      "['hello', 'world']\n"
     ]
    }
   ],
   "source": [
    "#047\n",
    "a = \"hello world\"\n",
    "print(a.split(' '))"
   ]
  },
  {
   "cell_type": "code",
   "execution_count": 105,
   "id": "ba39b23c",
   "metadata": {},
   "outputs": [
    {
     "name": "stdout",
     "output_type": "stream",
     "text": [
      "['btc', 'krw']\n"
     ]
    }
   ],
   "source": [
    "#048\n",
    "ticker = \"btc_krw\"\n",
    "print(ticker.split('_'))"
   ]
  },
  {
   "cell_type": "code",
   "execution_count": 116,
   "id": "8f7740be",
   "metadata": {},
   "outputs": [
    {
     "name": "stdout",
     "output_type": "stream",
     "text": [
      "year:2020 month:05 day:01\n"
     ]
    }
   ],
   "source": [
    "#049\n",
    "date = \"2020-05-01\"\n",
    "date_lst = date.split('-')\n",
    "print('year:{0} month:{1} day:{2}'.format(date_lst[0],date_lst[1],date_lst[2]))"
   ]
  },
  {
   "cell_type": "code",
   "execution_count": 117,
   "id": "eafbe44a",
   "metadata": {},
   "outputs": [
    {
     "name": "stdout",
     "output_type": "stream",
     "text": [
      "039490\n"
     ]
    }
   ],
   "source": [
    "#050\n",
    "data = \"039490     \"\n",
    "print(data.rstrip())"
   ]
  },
  {
   "cell_type": "markdown",
   "id": "a4b89a0a",
   "metadata": {},
   "source": [
    "## 파이썬 리스트 (051~070)"
   ]
  },
  {
   "cell_type": "code",
   "execution_count": 118,
   "id": "98c40a6d",
   "metadata": {},
   "outputs": [
    {
     "name": "stdout",
     "output_type": "stream",
     "text": [
      "['닥터 스트레인지', '스플릿', '럭키']\n"
     ]
    }
   ],
   "source": [
    "#051\n",
    "movie_rank = ['닥터 스트레인지','스플릿','럭키']\n",
    "print(movie_rank)"
   ]
  },
  {
   "cell_type": "code",
   "execution_count": 119,
   "id": "b8b0b944",
   "metadata": {},
   "outputs": [
    {
     "name": "stdout",
     "output_type": "stream",
     "text": [
      "['닥터 스트레인지', '스플릿', '럭키', '배트맨']\n"
     ]
    }
   ],
   "source": [
    "#052\n",
    "movie_rank.append('배트맨')\n",
    "print(movie_rank)"
   ]
  },
  {
   "cell_type": "code",
   "execution_count": 121,
   "id": "bbc7535a",
   "metadata": {},
   "outputs": [
    {
     "name": "stdout",
     "output_type": "stream",
     "text": [
      "['닥터 스트레인지', '슈퍼맨', '스플릿', '럭키', '배트맨']\n"
     ]
    }
   ],
   "source": [
    "#053\n",
    "movie_rank.insert(1,'슈퍼맨')\n",
    "print(movie_rank)"
   ]
  },
  {
   "cell_type": "code",
   "execution_count": 124,
   "id": "bcaeef3e",
   "metadata": {},
   "outputs": [
    {
     "name": "stdout",
     "output_type": "stream",
     "text": [
      "['닥터 스트레인지', '슈퍼맨', '스플릿', '배트맨']\n"
     ]
    }
   ],
   "source": [
    "#054\n",
    "movie_rank.remove('럭키')\n",
    "print(movie_rank)"
   ]
  },
  {
   "cell_type": "code",
   "execution_count": 129,
   "id": "f6919484",
   "metadata": {},
   "outputs": [
    {
     "name": "stdout",
     "output_type": "stream",
     "text": [
      "['닥터 스트레인지', '슈퍼맨']\n",
      "['닥터 스트레인지', '슈퍼맨']\n"
     ]
    }
   ],
   "source": [
    "#055\n",
    "movie_rank = ['닥터 스트레인지', '슈퍼맨', '스플릿', '배트맨']\n",
    "movie_rank.remove('스플릿')\n",
    "movie_rank.remove('배트맨')\n",
    "print(movie_rank)\n",
    "\n",
    "# del 을 이용해서 직접적으로 삭제 가능하다\n",
    "movie_rank = ['닥터 스트레인지', '슈퍼맨', '스플릿', '배트맨']\n",
    "del movie_rank[2]\n",
    "del movie_rank[2]\n",
    "print(movie_rank)"
   ]
  },
  {
   "cell_type": "code",
   "execution_count": 137,
   "id": "087ffa29",
   "metadata": {},
   "outputs": [
    {
     "name": "stdout",
     "output_type": "stream",
     "text": [
      "['C', 'C++', 'JAVA', 'Python', 'Go', 'C#']\n"
     ]
    }
   ],
   "source": [
    "#056\n",
    "lang1 = [\"C\", \"C++\", \"JAVA\"]\n",
    "lang2 = [\"Python\", \"Go\", \"C#\"]\n",
    "langs = lang1 + lang2\n",
    "print(langs)\n",
    "\n",
    "lang1 = [\"C\", \"C++\", \"JAVA\"]\n",
    "lang2 = [\"Python\", \"Go\", \"C#\"]\n"
   ]
  },
  {
   "cell_type": "code",
   "execution_count": 139,
   "id": "4f6d39f0",
   "metadata": {},
   "outputs": [
    {
     "name": "stdout",
     "output_type": "stream",
     "text": [
      "max:  7\n",
      "max:  1\n"
     ]
    }
   ],
   "source": [
    "#057\n",
    "nums = [1, 2, 3, 4, 5, 6, 7]\n",
    "\n",
    "print('max: ',max(nums))\n",
    "print('max: ',min(nums))"
   ]
  },
  {
   "cell_type": "code",
   "execution_count": 140,
   "id": "3dfa5d2a",
   "metadata": {},
   "outputs": [
    {
     "name": "stdout",
     "output_type": "stream",
     "text": [
      "15\n"
     ]
    }
   ],
   "source": [
    "#058\n",
    "nums = [1, 2, 3, 4, 5]\n",
    "\n",
    "print(sum(nums))"
   ]
  },
  {
   "cell_type": "code",
   "execution_count": 141,
   "id": "d83ab211",
   "metadata": {},
   "outputs": [
    {
     "name": "stdout",
     "output_type": "stream",
     "text": [
      "12\n"
     ]
    }
   ],
   "source": [
    "#059\n",
    "cook = [\"피자\", \"김밥\", \"만두\", \"양념치킨\", \"족발\", \"피자\", \"김치만두\", \"쫄면\", \"소시지\", \"라면\", \"팥빙수\", \"김치전\"]\n",
    "print(len(cook))"
   ]
  },
  {
   "cell_type": "code",
   "execution_count": 142,
   "id": "a1854d7c",
   "metadata": {},
   "outputs": [
    {
     "name": "stdout",
     "output_type": "stream",
     "text": [
      "3.0\n"
     ]
    }
   ],
   "source": [
    "nums = [1, 2, 3, 4, 5]\n",
    "print(sum(nums)/len(nums))"
   ]
  },
  {
   "cell_type": "code",
   "execution_count": 151,
   "id": "16d22eb4",
   "metadata": {},
   "outputs": [
    {
     "name": "stdout",
     "output_type": "stream",
     "text": [
      "[100, 130, 140, 150, 160, 170]\n"
     ]
    }
   ],
   "source": [
    "#061\n",
    "price = ['20180728', 100, 130, 140, 150, 160, 170]\n",
    "price_lst = [p for p in price if isinstance(p,int)]\n",
    "print(price_lst)"
   ]
  },
  {
   "cell_type": "code",
   "execution_count": 152,
   "id": "d7d08e2c",
   "metadata": {},
   "outputs": [
    {
     "name": "stdout",
     "output_type": "stream",
     "text": [
      "[1, 3, 5, 7, 9]\n"
     ]
    }
   ],
   "source": [
    "#062\n",
    "nums = [1, 2, 3, 4, 5, 6, 7, 8, 9, 10]\n",
    "print(nums[::2])"
   ]
  },
  {
   "cell_type": "code",
   "execution_count": 153,
   "id": "fdeb7d01",
   "metadata": {},
   "outputs": [
    {
     "name": "stdout",
     "output_type": "stream",
     "text": [
      "[2, 4, 6, 8, 10]\n"
     ]
    }
   ],
   "source": [
    "#063\n",
    "nums = [1, 2, 3, 4, 5, 6, 7, 8, 9, 10]\n",
    "print(nums[1::2])"
   ]
  },
  {
   "cell_type": "code",
   "execution_count": 154,
   "id": "0abb700e",
   "metadata": {},
   "outputs": [
    {
     "name": "stdout",
     "output_type": "stream",
     "text": [
      "[5, 4, 3, 2, 1]\n"
     ]
    }
   ],
   "source": [
    "#064\n",
    "nums = [1, 2, 3, 4, 5]\n",
    "print(nums[::-1])"
   ]
  },
  {
   "cell_type": "code",
   "execution_count": 155,
   "id": "95ba8c1e",
   "metadata": {},
   "outputs": [
    {
     "name": "stdout",
     "output_type": "stream",
     "text": [
      "삼성전자 Naver\n"
     ]
    }
   ],
   "source": [
    "#065\n",
    "interest = ['삼성전자', 'LG전자', 'Naver']\n",
    "print(interest[0],interest[2])"
   ]
  },
  {
   "cell_type": "code",
   "execution_count": 156,
   "id": "316d47d5",
   "metadata": {},
   "outputs": [
    {
     "name": "stdout",
     "output_type": "stream",
     "text": [
      "삼성전자 LG전자 Naver SK하이닉스 미래에셋대우\n"
     ]
    }
   ],
   "source": [
    "#066\n",
    "interest = ['삼성전자', 'LG전자', 'Naver', 'SK하이닉스', '미래에셋대우']\n",
    "print(' '.join(interest))"
   ]
  },
  {
   "cell_type": "code",
   "execution_count": 157,
   "id": "3a87479a",
   "metadata": {},
   "outputs": [
    {
     "name": "stdout",
     "output_type": "stream",
     "text": [
      "삼성전자/LG전자/Naver/SK하이닉스/미래에셋대우\n"
     ]
    }
   ],
   "source": [
    "#067\n",
    "interest = ['삼성전자', 'LG전자', 'Naver', 'SK하이닉스', '미래에셋대우']\n",
    "print('/'.join(interest))"
   ]
  },
  {
   "cell_type": "code",
   "execution_count": 158,
   "id": "4f2dce3b",
   "metadata": {},
   "outputs": [
    {
     "name": "stdout",
     "output_type": "stream",
     "text": [
      "삼성전자\n",
      "LG전자\n",
      "Naver\n",
      "SK하이닉스\n",
      "미래에셋대우\n"
     ]
    }
   ],
   "source": [
    "#068\n",
    "interest = ['삼성전자', 'LG전자', 'Naver', 'SK하이닉스', '미래에셋대우']\n",
    "print('\\n'.join(interest))"
   ]
  },
  {
   "cell_type": "code",
   "execution_count": 160,
   "id": "f11f191c",
   "metadata": {},
   "outputs": [
    {
     "name": "stdout",
     "output_type": "stream",
     "text": [
      "['삼성전자', 'LG전자', 'Naver']\n"
     ]
    }
   ],
   "source": [
    "#069\n",
    "string = \"삼성전자/LG전자/Naver\"\n",
    "string_lst = string.split('/')\n",
    "print(string_lst)"
   ]
  },
  {
   "cell_type": "code",
   "execution_count": 166,
   "id": "bbe2f5a4",
   "metadata": {},
   "outputs": [
    {
     "name": "stdout",
     "output_type": "stream",
     "text": [
      "[1, 2, 3, 4, 5, 9, 10]\n",
      "[10, 9, 5, 4, 3, 2, 1]\n",
      "[1, 2, 3, 4, 5, 9, 10]\n",
      "[10, 9, 5, 4, 3, 2, 1]\n"
     ]
    }
   ],
   "source": [
    "#070\n",
    "\n",
    "data = [2, 4, 3, 1, 5, 10, 9]\n",
    "data.sort()\n",
    "print(data)\n",
    "data.sort(reverse = True)\n",
    "ascend = sorted(data)\n",
    "descend = sorted(data,reverse=True)\n",
    "\n",
    "print(data)\n",
    "print(ascend)\n",
    "print(descend)"
   ]
  },
  {
   "cell_type": "markdown",
   "id": "7be4f585",
   "metadata": {},
   "source": [
    "## 파이썬 튜플 (071~080)"
   ]
  },
  {
   "cell_type": "markdown",
   "id": "49c286e7",
   "metadata": {},
   "source": [
    "- 빈 튜플은 \"변수 = ()\" 로 만들면 된다.\n",
    "- 그러나 튜플에 변수가 단 하나만 있다면 그건 튜플이 아니다.int, float, str, boolen 등\n",
    "- 그래서 튜플에 하나의 변수만을 저장하려면 \"변수 = (1,)\" 처럼 ',' 를 마지막에 추가해라."
   ]
  },
  {
   "cell_type": "code",
   "execution_count": 176,
   "id": "4cd7585b",
   "metadata": {},
   "outputs": [
    {
     "name": "stdout",
     "output_type": "stream",
     "text": [
      "<class 'tuple'>\n"
     ]
    }
   ],
   "source": [
    "#071\n",
    "my_variable = ()\n",
    "print(type(my_variable))"
   ]
  },
  {
   "cell_type": "code",
   "execution_count": 177,
   "id": "0b482cfb",
   "metadata": {},
   "outputs": [
    {
     "name": "stdout",
     "output_type": "stream",
     "text": [
      "('닥터 스트레인지', '스플릿', '럭키') <class 'tuple'>\n"
     ]
    }
   ],
   "source": [
    "#072\n",
    "movie_rank = ('닥터 스트레인지', '스플릿', '럭키')\n",
    "print(movie_rank,type(movie_rank))"
   ]
  },
  {
   "cell_type": "code",
   "execution_count": 178,
   "id": "d10b3239",
   "metadata": {},
   "outputs": [
    {
     "name": "stdout",
     "output_type": "stream",
     "text": [
      "(1,) <class 'tuple'>\n"
     ]
    }
   ],
   "source": [
    "#073\n",
    "number1 = (1,)\n",
    "print(number1,type(number1))"
   ]
  },
  {
   "cell_type": "code",
   "execution_count": 180,
   "id": "a1f47592",
   "metadata": {},
   "outputs": [
    {
     "ename": "TypeError",
     "evalue": "'tuple' object does not support item assignment",
     "output_type": "error",
     "traceback": [
      "\u001b[1;31m---------------------------------------------------------------------------\u001b[0m",
      "\u001b[1;31mTypeError\u001b[0m                                 Traceback (most recent call last)",
      "Input \u001b[1;32mIn [180]\u001b[0m, in \u001b[0;36m<module>\u001b[1;34m\u001b[0m\n\u001b[0;32m      1\u001b[0m \u001b[38;5;66;03m#074\u001b[39;00m\n\u001b[0;32m      2\u001b[0m t \u001b[38;5;241m=\u001b[39m (\u001b[38;5;241m1\u001b[39m, \u001b[38;5;241m2\u001b[39m, \u001b[38;5;241m3\u001b[39m)\n\u001b[1;32m----> 3\u001b[0m t[\u001b[38;5;241m0\u001b[39m] \u001b[38;5;241m=\u001b[39m \u001b[38;5;124m'\u001b[39m\u001b[38;5;124ma\u001b[39m\u001b[38;5;124m'\u001b[39m\n",
      "\u001b[1;31mTypeError\u001b[0m: 'tuple' object does not support item assignment"
     ]
    }
   ],
   "source": [
    "#074\n",
    "t = (1, 2, 3)\n",
    "t[0] = 'a'\n",
    "\n",
    "# 튜플의 원소는 변경이 불가능하다. 재선언을 해야한다."
   ]
  },
  {
   "cell_type": "code",
   "execution_count": 181,
   "id": "50fed18d",
   "metadata": {},
   "outputs": [
    {
     "name": "stdout",
     "output_type": "stream",
     "text": [
      "(1, 2, 3, 4) <class 'tuple'>\n"
     ]
    }
   ],
   "source": [
    "#075\n",
    "t = 1, 2, 3, 4\n",
    "print(t, type(t))\n",
    "\n",
    "# 괄호가 없어도 편의로 튜플 형식이 주어진다."
   ]
  },
  {
   "cell_type": "code",
   "execution_count": 183,
   "id": "af271f01",
   "metadata": {},
   "outputs": [
    {
     "name": "stdout",
     "output_type": "stream",
     "text": [
      "('a', 'b', 'c')\n",
      "('A', 'b', 'c')\n"
     ]
    }
   ],
   "source": [
    "#076\n",
    "t = ('a', 'b', 'c')\n",
    "print(t)\n",
    "# 변경 불가능, 재선언해야한다.\n",
    "t = ('A', 'b', 'c')\n",
    "print(t)"
   ]
  },
  {
   "cell_type": "code",
   "execution_count": 185,
   "id": "68509311",
   "metadata": {},
   "outputs": [
    {
     "name": "stdout",
     "output_type": "stream",
     "text": [
      "['삼성전자', 'LG전자', 'SK Hynix']\n"
     ]
    }
   ],
   "source": [
    "#077\n",
    "interest = ('삼성전자', 'LG전자', 'SK Hynix')\n",
    "print(list(interest))"
   ]
  },
  {
   "cell_type": "code",
   "execution_count": 187,
   "id": "7462514b",
   "metadata": {},
   "outputs": [
    {
     "name": "stdout",
     "output_type": "stream",
     "text": [
      "('삼성전자', 'LG전자', 'SK Hynix')\n"
     ]
    }
   ],
   "source": [
    "#078\n",
    "interest = ['삼성전자', 'LG전자', 'SK Hynix']\n",
    "data = tuple(interest)\n",
    "print(data)"
   ]
  },
  {
   "cell_type": "code",
   "execution_count": 189,
   "id": "ba3f6a96",
   "metadata": {},
   "outputs": [
    {
     "name": "stdout",
     "output_type": "stream",
     "text": [
      "apple banana cake\n"
     ]
    }
   ],
   "source": [
    "#079\n",
    "temp = ('apple', 'banana', 'cake')\n",
    "a, b, c = temp\n",
    "print(a, b, c)\n",
    "# 차례대로 변수가 들어간다."
   ]
  },
  {
   "cell_type": "code",
   "execution_count": 195,
   "id": "74460d5f",
   "metadata": {},
   "outputs": [
    {
     "name": "stdout",
     "output_type": "stream",
     "text": [
      "(2, 4, 6, 8, 10, 12, 14, 16, 18, 20, 22, 24, 26, 28, 30, 32, 34, 36, 38, 40, 42, 44, 46, 48, 50, 52, 54, 56, 58, 60, 62, 64, 66, 68, 70, 72, 74, 76, 78, 80, 82, 84, 86, 88, 90, 92, 94, 96, 98)\n"
     ]
    }
   ],
   "source": [
    "#080\n",
    "data = tuple(range(2,99,2))\n",
    "print(data)\n"
   ]
  },
  {
   "cell_type": "markdown",
   "id": "ce8cda0e",
   "metadata": {},
   "source": [
    "## 파이썬 딕셔너리 (081~100)"
   ]
  },
  {
   "cell_type": "code",
   "execution_count": 198,
   "id": "cf1a1d03",
   "metadata": {},
   "outputs": [
    {
     "name": "stdout",
     "output_type": "stream",
     "text": [
      "[2, 3, 4, 5]\n",
      "[8.8, 8.9, 8.7, 9.2, 9.3, 9.7, 9.9, 9.5]\n"
     ]
    }
   ],
   "source": [
    "#081\n",
    "a, b, *c = (0, 1, 2, 3, 4, 5)\n",
    "print(c)\n",
    "\n",
    "scores = [8.8, 8.9, 8.7, 9.2, 9.3, 9.7, 9.9, 9.5, 7.8, 9.4]\n",
    "*x,y,z = scores\n",
    "print(x)"
   ]
  },
  {
   "cell_type": "code",
   "execution_count": 199,
   "id": "b4c02b3a",
   "metadata": {},
   "outputs": [
    {
     "name": "stdout",
     "output_type": "stream",
     "text": [
      "[8.7, 9.2, 9.3, 9.7, 9.9, 9.5, 7.8, 9.4]\n"
     ]
    }
   ],
   "source": [
    "#082\n",
    "scores = [8.8, 8.9, 8.7, 9.2, 9.3, 9.7, 9.9, 9.5, 7.8, 9.4]\n",
    "x,y,*z = scores\n",
    "print(z)"
   ]
  },
  {
   "cell_type": "code",
   "execution_count": 200,
   "id": "701ecb27",
   "metadata": {},
   "outputs": [
    {
     "name": "stdout",
     "output_type": "stream",
     "text": [
      "[8.9, 8.7, 9.2, 9.3, 9.7, 9.9, 9.5, 7.8]\n"
     ]
    }
   ],
   "source": [
    "#083\n",
    "scores = [8.8, 8.9, 8.7, 9.2, 9.3, 9.7, 9.9, 9.5, 7.8, 9.4]\n",
    "x,*y,z = scores\n",
    "print(y)"
   ]
  },
  {
   "cell_type": "code",
   "execution_count": 202,
   "id": "ff28b087",
   "metadata": {},
   "outputs": [
    {
     "name": "stdout",
     "output_type": "stream",
     "text": [
      "{} <class 'dict'>\n"
     ]
    }
   ],
   "source": [
    "#084\n",
    "temp = {}\n",
    "print(temp,type(temp))"
   ]
  },
  {
   "cell_type": "code",
   "execution_count": 203,
   "id": "bca72607",
   "metadata": {},
   "outputs": [
    {
     "name": "stdout",
     "output_type": "stream",
     "text": [
      "{'메로나': 1000, '폴라포': 1200, '빵빠레': 1800}\n"
     ]
    }
   ],
   "source": [
    "#085\n",
    "dic = {'메로나':1000,'폴라포':1200,'빵빠레':1800}\n",
    "print(dic)"
   ]
  },
  {
   "cell_type": "code",
   "execution_count": 205,
   "id": "dab07ef9",
   "metadata": {},
   "outputs": [
    {
     "name": "stdout",
     "output_type": "stream",
     "text": [
      "{'메로나': 1000, '폴라포': 1200, '빵빠레': 1800, '죠스바': 1200, '월드콘': 1500}\n"
     ]
    }
   ],
   "source": [
    "#086\n",
    "dic['죠스바'] = 1200\n",
    "dic['월드콘'] = 1500\n",
    "print(dic)"
   ]
  },
  {
   "cell_type": "code",
   "execution_count": 209,
   "id": "60c47cd9",
   "metadata": {},
   "outputs": [
    {
     "name": "stdout",
     "output_type": "stream",
     "text": [
      "메로나의 가격: 1000\n"
     ]
    }
   ],
   "source": [
    "#087\n",
    "ice = {'메로나': 1000,\n",
    "       '폴로포': 1200,\n",
    "       '빵빠레': 1800,\n",
    "       '죠스바': 1200,\n",
    "       '월드콘': 1500}\n",
    "print('메로나의 가격:',ice.get('메로나'))\n"
   ]
  },
  {
   "cell_type": "code",
   "execution_count": 210,
   "id": "da658300",
   "metadata": {},
   "outputs": [
    {
     "name": "stdout",
     "output_type": "stream",
     "text": [
      "{'메로나': 1300, '폴로포': 1200, '빵빠레': 1800, '죠스바': 1200, '월드콘': 1500}\n"
     ]
    }
   ],
   "source": [
    "#088\n",
    "ice = {'메로나': 1000,\n",
    "       '폴로포': 1200,\n",
    "       '빵빠레': 1800,\n",
    "       '죠스바': 1200,\n",
    "       '월드콘': 1500}\n",
    "ice['메로나'] = 1300\n",
    "print(ice)"
   ]
  },
  {
   "cell_type": "code",
   "execution_count": 211,
   "id": "865232f5",
   "metadata": {},
   "outputs": [
    {
     "ename": "KeyError",
     "evalue": "'누가바'",
     "output_type": "error",
     "traceback": [
      "\u001b[1;31m---------------------------------------------------------------------------\u001b[0m",
      "\u001b[1;31mKeyError\u001b[0m                                  Traceback (most recent call last)",
      "Input \u001b[1;32mIn [211]\u001b[0m, in \u001b[0;36m<module>\u001b[1;34m\u001b[0m\n\u001b[0;32m      1\u001b[0m \u001b[38;5;66;03m#089\u001b[39;00m\n\u001b[0;32m      2\u001b[0m icecream \u001b[38;5;241m=\u001b[39m {\u001b[38;5;124m'\u001b[39m\u001b[38;5;124m폴라포\u001b[39m\u001b[38;5;124m'\u001b[39m: \u001b[38;5;241m1200\u001b[39m, \u001b[38;5;124m'\u001b[39m\u001b[38;5;124m빵빠레\u001b[39m\u001b[38;5;124m'\u001b[39m: \u001b[38;5;241m1800\u001b[39m, \u001b[38;5;124m'\u001b[39m\u001b[38;5;124m월드콘\u001b[39m\u001b[38;5;124m'\u001b[39m: \u001b[38;5;241m1500\u001b[39m, \u001b[38;5;124m'\u001b[39m\u001b[38;5;124m메로나\u001b[39m\u001b[38;5;124m'\u001b[39m: \u001b[38;5;241m1000\u001b[39m}\n\u001b[1;32m----> 3\u001b[0m \u001b[43micecream\u001b[49m\u001b[43m[\u001b[49m\u001b[38;5;124;43m'\u001b[39;49m\u001b[38;5;124;43m누가바\u001b[39;49m\u001b[38;5;124;43m'\u001b[39;49m\u001b[43m]\u001b[49m\n",
      "\u001b[1;31mKeyError\u001b[0m: '누가바'"
     ]
    }
   ],
   "source": [
    "#089\n",
    "icecream = {'폴라포': 1200, '빵빠레': 1800, '월드콘': 1500, '메로나': 1000}\n",
    "icecream['누가바']\n",
    "# key 값에 대응하는 value 값이 없어서다. 만약 오류가 싫다면, get 메소드를 활용하자.\n"
   ]
  },
  {
   "cell_type": "code",
   "execution_count": 213,
   "id": "55d2b9b0",
   "metadata": {},
   "outputs": [
    {
     "name": "stdout",
     "output_type": "stream",
     "text": [
      "{'메로나': [300, 20], '비비빅': [400, 3], '죠스바': [250, 100]}\n"
     ]
    }
   ],
   "source": [
    "#091\n",
    "icecream = {'메로나':[300,20],'비비빅':[400,3],'죠스바':[250,100] }\n",
    "print(icecream)"
   ]
  },
  {
   "cell_type": "code",
   "execution_count": 217,
   "id": "91a3564e",
   "metadata": {},
   "outputs": [
    {
     "name": "stdout",
     "output_type": "stream",
     "text": [
      "300 원\n"
     ]
    }
   ],
   "source": [
    "#092\n",
    "inventory = {\"메로나\": [300, 20],\n",
    "              \"비비빅\": [400, 3],\n",
    "              \"죠스바\": [250, 100]}\n",
    "print(inventory.get('메로나')[0] , '원')"
   ]
  },
  {
   "cell_type": "code",
   "execution_count": 219,
   "id": "934de0ce",
   "metadata": {},
   "outputs": [
    {
     "name": "stdout",
     "output_type": "stream",
     "text": [
      "20 개\n"
     ]
    }
   ],
   "source": [
    "#093\n",
    "inventory = {\"메로나\": [300, 20],\n",
    "              \"비비빅\": [400, 3],\n",
    "              \"죠스바\": [250, 100]}\n",
    "print(inventory.get('메로나')[1] , '개')"
   ]
  },
  {
   "cell_type": "code",
   "execution_count": 220,
   "id": "b1f04d47",
   "metadata": {},
   "outputs": [
    {
     "name": "stdout",
     "output_type": "stream",
     "text": [
      "{'메로나': [300, 20], '비비빅': [400, 3], '죠스바': [250, 100], '월드콘': [500, 7]}\n"
     ]
    }
   ],
   "source": [
    "#094\n",
    "inventory = {\"메로나\": [300, 20],\n",
    "              \"비비빅\": [400, 3],\n",
    "              \"죠스바\": [250, 100]}\n",
    "inventory['월드콘'] = [500, 7]\n",
    "print(inventory)"
   ]
  },
  {
   "cell_type": "code",
   "execution_count": 222,
   "id": "387617de",
   "metadata": {},
   "outputs": [
    {
     "name": "stdout",
     "output_type": "stream",
     "text": [
      "['탱크보이', '폴라포', '빵빠레', '월드콘', '메로나']\n"
     ]
    }
   ],
   "source": [
    "#095\n",
    "icecream = {'탱크보이': 1200, '폴라포': 1200, '빵빠레': 1800, '월드콘': 1500, '메로나': 1000}\n",
    "ice_keys = list(icecream.keys())\n",
    "print(ice_keys)"
   ]
  },
  {
   "cell_type": "code",
   "execution_count": 226,
   "id": "b2405d94",
   "metadata": {},
   "outputs": [
    {
     "name": "stdout",
     "output_type": "stream",
     "text": [
      "[1200, 1200, 1800, 1500, 1000]\n"
     ]
    }
   ],
   "source": [
    "#096\n",
    "ice_values = list(icecream.values())\n",
    "print(ice_values)"
   ]
  },
  {
   "cell_type": "code",
   "execution_count": 225,
   "id": "d8630349",
   "metadata": {},
   "outputs": [
    {
     "name": "stdout",
     "output_type": "stream",
     "text": [
      "6700\n"
     ]
    }
   ],
   "source": [
    "#097\n",
    "icecream = {'탱크보이': 1200, '폴라포': 1200, '빵빠레': 1800, '월드콘': 1500, '메로나': 1000}\n",
    "total = sum(icecream.values())\n",
    "print(total)"
   ]
  },
  {
   "cell_type": "code",
   "execution_count": 228,
   "id": "bb945d86",
   "metadata": {},
   "outputs": [
    {
     "name": "stdout",
     "output_type": "stream",
     "text": [
      "{'탱크보이': 1200, '폴라포': 1200, '빵빠레': 1800, '월드콘': 1500, '메로나': 1000, '팥빙수': 2700, '아맛나': 1000}\n"
     ]
    }
   ],
   "source": [
    "#098\n",
    "icecream = {'탱크보이': 1200, '폴라포': 1200, '빵빠레': 1800, '월드콘': 1500, '메로나': 1000}\n",
    "new_product = {'팥빙수':2700, '아맛나':1000}\n",
    "icecream.update(new_product)\n",
    "print(icecream)"
   ]
  },
  {
   "cell_type": "code",
   "execution_count": 231,
   "id": "668d8be2",
   "metadata": {},
   "outputs": [
    {
     "name": "stdout",
     "output_type": "stream",
     "text": [
      "{'apple': 300, 'pear': 250, 'peach': 400}\n"
     ]
    }
   ],
   "source": [
    "#099\n",
    "keys = (\"apple\", \"pear\", \"peach\")\n",
    "vals = (300, 250, 400)\n",
    "result =dict(zip(keys,vals))\n",
    "print(result)"
   ]
  },
  {
   "cell_type": "code",
   "execution_count": 233,
   "id": "0c05c796",
   "metadata": {},
   "outputs": [
    {
     "name": "stdout",
     "output_type": "stream",
     "text": [
      "{'09/05': 10500, '09/06': 10300, '09/07': 10100, '09/08': 10800, '09/09': 11000}\n"
     ]
    }
   ],
   "source": [
    "#100\n",
    "date = ['09/05', '09/06', '09/07', '09/08', '09/09']\n",
    "close_price = [10500, 10300, 10100, 10800, 11000]\n",
    "close_table = dict(zip(date,close_price))\n",
    "print(close_table)"
   ]
  },
  {
   "cell_type": "markdown",
   "id": "f13777fc",
   "metadata": {},
   "source": [
    "## 파이썬 분기문 (101~130)"
   ]
  },
  {
   "cell_type": "code",
   "execution_count": 234,
   "id": "5ec7fd53",
   "metadata": {},
   "outputs": [
    {
     "name": "stdout",
     "output_type": "stream",
     "text": [
      "bool 타입\n",
      "True\n"
     ]
    }
   ],
   "source": [
    "#101\n",
    "print('bool 타입')\n",
    "#True : 값이 있는 대부분 변수 , 1, \" \"(str 공백)\n",
    "#False : 0 ,{}.[],(),''.\"\"\n",
    "print(bool(\" \"))"
   ]
  },
  {
   "cell_type": "code",
   "execution_count": 235,
   "id": "3de83147",
   "metadata": {},
   "outputs": [
    {
     "name": "stdout",
     "output_type": "stream",
     "text": [
      "False\n"
     ]
    }
   ],
   "source": [
    "#102\n",
    "print(3 == 5)\n",
    "#False"
   ]
  },
  {
   "cell_type": "code",
   "execution_count": 236,
   "id": "d7ff839a",
   "metadata": {},
   "outputs": [
    {
     "name": "stdout",
     "output_type": "stream",
     "text": [
      "True\n"
     ]
    }
   ],
   "source": [
    "#103\n",
    "print(3 < 5)\n",
    "#True"
   ]
  },
  {
   "cell_type": "code",
   "execution_count": 237,
   "id": "1a7e5866",
   "metadata": {},
   "outputs": [
    {
     "name": "stdout",
     "output_type": "stream",
     "text": [
      "True\n"
     ]
    }
   ],
   "source": [
    "#104\n",
    "x = 4\n",
    "print(1 < x < 5)\n",
    "# True"
   ]
  },
  {
   "cell_type": "code",
   "execution_count": 238,
   "id": "0bfe4cd0",
   "metadata": {},
   "outputs": [
    {
     "name": "stdout",
     "output_type": "stream",
     "text": [
      "True\n"
     ]
    }
   ],
   "source": [
    "#105\n",
    "print ((3 == 3) and (4 != 3))\n",
    "# True"
   ]
  },
  {
   "cell_type": "code",
   "execution_count": 239,
   "id": "1ea93906",
   "metadata": {},
   "outputs": [
    {
     "ename": "SyntaxError",
     "evalue": "expression cannot contain assignment, perhaps you meant \"==\"? (919391875.py, line 2)",
     "output_type": "error",
     "traceback": [
      "\u001b[1;36m  Input \u001b[1;32mIn [239]\u001b[1;36m\u001b[0m\n\u001b[1;33m    print(3 => 4)\u001b[0m\n\u001b[1;37m          ^\u001b[0m\n\u001b[1;31mSyntaxError\u001b[0m\u001b[1;31m:\u001b[0m expression cannot contain assignment, perhaps you meant \"==\"?\n"
     ]
    }
   ],
   "source": [
    "#106\n",
    "print(3 => 4)\n",
    "# 부등호 '>'는 '=' 보다 먼저(좌측에) 써야한다 >="
   ]
  },
  {
   "cell_type": "code",
   "execution_count": 240,
   "id": "17253afc",
   "metadata": {},
   "outputs": [],
   "source": [
    "#107\n",
    "if 4 < 3:\n",
    "    print(\"Hello World\")\n",
    "    \n",
    "# 아무것도 출력되지 않는다."
   ]
  },
  {
   "cell_type": "code",
   "execution_count": 241,
   "id": "5f009ac3",
   "metadata": {},
   "outputs": [
    {
     "name": "stdout",
     "output_type": "stream",
     "text": [
      "Hi, there.\n"
     ]
    }
   ],
   "source": [
    "#108\n",
    "if 4 < 3:\n",
    "    print(\"Hello World.\")\n",
    "else:\n",
    "    print(\"Hi, there.\")\n",
    "# 'Hi, there.' 가 출력된다."
   ]
  },
  {
   "cell_type": "code",
   "execution_count": 243,
   "id": "58834be3",
   "metadata": {},
   "outputs": [
    {
     "name": "stdout",
     "output_type": "stream",
     "text": [
      "1\n",
      "2\n",
      "4\n"
     ]
    }
   ],
   "source": [
    "#109\n",
    "if True :\n",
    "    print (\"1\")\n",
    "    print (\"2\")\n",
    "else :\n",
    "    print(\"3\")\n",
    "print(\"4\")\n",
    "# 1\\n2\\n4"
   ]
  },
  {
   "cell_type": "code",
   "execution_count": 244,
   "id": "45a8b1c7",
   "metadata": {},
   "outputs": [
    {
     "name": "stdout",
     "output_type": "stream",
     "text": [
      "3\n",
      "5\n"
     ]
    }
   ],
   "source": [
    "#110\n",
    "if True :\n",
    "    if False:\n",
    "        print(\"1\")\n",
    "        print(\"2\")\n",
    "    else:\n",
    "        print(\"3\")\n",
    "else :\n",
    "    print(\"4\")\n",
    "print(\"5\")\n",
    "#3\\n5"
   ]
  },
  {
   "cell_type": "code",
   "execution_count": 245,
   "id": "15ecf69d",
   "metadata": {},
   "outputs": [
    {
     "name": "stdout",
     "output_type": "stream",
     "text": [
      "안녕하세요\n",
      "안녕하세요안녕하세요\n"
     ]
    }
   ],
   "source": [
    "#111\n",
    "x = input()\n",
    "print(x*2)"
   ]
  },
  {
   "cell_type": "code",
   "execution_count": 247,
   "id": "4ecea887",
   "metadata": {},
   "outputs": [
    {
     "name": "stdout",
     "output_type": "stream",
     "text": [
      "숫자를 입력하세요:30\n",
      "40\n"
     ]
    }
   ],
   "source": [
    "#112\n",
    "x = int(input('숫자를 입력하세요:'))\n",
    "print(x + 10)"
   ]
  },
  {
   "cell_type": "code",
   "execution_count": 250,
   "id": "c377b245",
   "metadata": {},
   "outputs": [
    {
     "name": "stdout",
     "output_type": "stream",
     "text": [
      "30\n",
      "짝수\n"
     ]
    }
   ],
   "source": [
    "#113\n",
    "q = int(input())\n",
    "a = '짝수' if q %2 == 0 else '홀수'\n",
    "print(a)\n"
   ]
  },
  {
   "cell_type": "code",
   "execution_count": 252,
   "id": "359f9a84",
   "metadata": {},
   "outputs": [
    {
     "name": "stdout",
     "output_type": "stream",
     "text": [
      "입력값:220\n",
      "출력값 240\n"
     ]
    }
   ],
   "source": [
    "#114\n",
    "q = int(input('입력값:'))\n",
    "a = 255 if q+20>255 else q + 20\n",
    "print('출력값',a)"
   ]
  },
  {
   "cell_type": "code",
   "execution_count": 254,
   "id": "28eac6aa",
   "metadata": {},
   "outputs": [
    {
     "name": "stdout",
     "output_type": "stream",
     "text": [
      "입력값:15\n",
      "출력값 0\n"
     ]
    }
   ],
   "source": [
    "#115\n",
    "q = int(input('입력값:'))\n",
    "if 255> q-20 >0:\n",
    "    a = q-20\n",
    "elif 0 >= q-20:\n",
    "    a = 0\n",
    "else:\n",
    "    a = 255\n",
    "    \n",
    "print('출력값',a)\n"
   ]
  },
  {
   "cell_type": "code",
   "execution_count": 257,
   "id": "ba166de2",
   "metadata": {},
   "outputs": [
    {
     "name": "stdout",
     "output_type": "stream",
     "text": [
      "현재시간:13:00\n",
      "정각 입니다\n"
     ]
    }
   ],
   "source": [
    "#116\n",
    "q = input('현재시간:')\n",
    "a = '입니다'if q[-2:]=='00'else '아닙니다.'\n",
    "print('정각',a)"
   ]
  },
  {
   "cell_type": "code",
   "execution_count": 259,
   "id": "9348940b",
   "metadata": {},
   "outputs": [
    {
     "name": "stdout",
     "output_type": "stream",
     "text": [
      "좋아하는 과일은?사과\n",
      "정답입니다.\n"
     ]
    }
   ],
   "source": [
    "#117\n",
    "fruit = [\"사과\", \"포도\", \"홍시\"]\n",
    "q = input('좋아하는 과일은?')\n",
    "a = '정답입니다.' if q in fruit else '오답입니다.'\n",
    "print(a)"
   ]
  },
  {
   "cell_type": "code",
   "execution_count": 262,
   "id": "c3e5b818",
   "metadata": {},
   "outputs": [
    {
     "name": "stdout",
     "output_type": "stream",
     "text": [
      "종목을 입력하시오.kakao\n",
      "투자 경고 종목이 아닙니다.\n"
     ]
    }
   ],
   "source": [
    "#118\n",
    "warn_investment_list = [\"Microsoft\", \"Google\", \"Naver\", \"Kakao\", \"SAMSUNG\", \"LG\"]\n",
    "q = input('종목을 입력하시오.')\n",
    "a = '투자 경고 종목입니다' if q in warn_investment_list else \"투자 경고 종목이 아닙니다.\"\n",
    "print(a)"
   ]
  },
  {
   "cell_type": "code",
   "execution_count": 264,
   "id": "4a84819f",
   "metadata": {},
   "outputs": [
    {
     "name": "stdout",
     "output_type": "stream",
     "text": [
      "제가좋아하는계절은토마토\n",
      "오답입니다.\n"
     ]
    }
   ],
   "source": [
    "#119\n",
    "fruit = {\"봄\" : \"딸기\", \"여름\" : \"토마토\", \"가을\" : \"사과\"}\n",
    "q = input('제가좋아하는계절은')\n",
    "a = '정답입니다.' if q in fruit else '오답입니다.'\n",
    "print(a)"
   ]
  },
  {
   "cell_type": "code",
   "execution_count": 266,
   "id": "47e0a55d",
   "metadata": {},
   "outputs": [
    {
     "name": "stdout",
     "output_type": "stream",
     "text": [
      "제가좋아하는과일은토마토\n",
      "정답입니다.\n"
     ]
    }
   ],
   "source": [
    "#120\n",
    "fruit = {\"봄\" : \"딸기\", \"여름\" : \"토마토\", \"가을\" : \"사과\"}\n",
    "q = input('제가좋아하는과일은')\n",
    "a = '정답입니다.' if q in fruit.values() else '오답입니다.'\n",
    "print(a)"
   ]
  },
  {
   "cell_type": "code",
   "execution_count": 269,
   "id": "8124726e",
   "metadata": {},
   "outputs": [
    {
     "name": "stdout",
     "output_type": "stream",
     "text": [
      "A\n",
      "a\n"
     ]
    }
   ],
   "source": [
    "#121\n",
    "q = input()\n",
    "a = q.lower() if q == q.upper() else q.upper()\n",
    "print(a)"
   ]
  },
  {
   "cell_type": "code",
   "execution_count": 275,
   "id": "8e30518c",
   "metadata": {},
   "outputs": [
    {
     "name": "stdout",
     "output_type": "stream",
     "text": [
      "score:111\n",
      "입력값을 확인하십시오\n"
     ]
    }
   ],
   "source": [
    "#122\n",
    "q = int(input('score:' ))\n",
    "\n",
    "if 0 > q:\n",
    "    print('grade is F')\n",
    "elif 21 > q:\n",
    "    print('grade is E')\n",
    "elif 41 > q:\n",
    "    print('grade is D')\n",
    "elif 61 > q:\n",
    "    print('grade is C')\n",
    "elif 81 > q:\n",
    "    print('grade is B')\n",
    "elif 100 > q:\n",
    "     print('grade is A')\n",
    "else:\n",
    "     print('입력값을 확인하십시오')"
   ]
  },
  {
   "cell_type": "code",
   "execution_count": 279,
   "id": "fe0fdfe0",
   "metadata": {},
   "outputs": [
    {
     "name": "stdout",
     "output_type": "stream",
     "text": [
      "엽력:123421엔\n",
      "135269.416 원\n"
     ]
    }
   ],
   "source": [
    "#123-1\n",
    "q = input('엽력:')\n",
    "\n",
    "if q[-2:] =='달러':\n",
    "    a = float(q[:-2])*1167\n",
    "    print(a,'원')\n",
    "elif q[-1:] =='엔':\n",
    "    a = float(q[:-1])*1.096\n",
    "    print(a,'원')\n",
    "elif q[-2:] =='유로':\n",
    "    a = float(q[:-2])*1268\n",
    "    print(a,'위안')\n",
    "elif q[-2:] =='달러':\n",
    "    a = float(q[:-2])*171\n",
    "    print(a,'원')\n",
    "else:\n",
    "    print('지원하지 않는 통화입니다.')\n",
    "    "
   ]
  },
  {
   "cell_type": "code",
   "execution_count": 280,
   "id": "06fe0513",
   "metadata": {},
   "outputs": [
    {
     "name": "stdout",
     "output_type": "stream",
     "text": [
      "입력: 123엔\n"
     ]
    },
    {
     "ename": "ValueError",
     "evalue": "not enough values to unpack (expected 2, got 1)",
     "output_type": "error",
     "traceback": [
      "\u001b[1;31m---------------------------------------------------------------------------\u001b[0m",
      "\u001b[1;31mValueError\u001b[0m                                Traceback (most recent call last)",
      "Input \u001b[1;32mIn [280]\u001b[0m, in \u001b[0;36m<module>\u001b[1;34m\u001b[0m\n\u001b[0;32m      2\u001b[0m 환율 \u001b[38;5;241m=\u001b[39m {\u001b[38;5;124m\"\u001b[39m\u001b[38;5;124m달러\u001b[39m\u001b[38;5;124m\"\u001b[39m: \u001b[38;5;241m1167\u001b[39m, \n\u001b[0;32m      3\u001b[0m         \u001b[38;5;124m\"\u001b[39m\u001b[38;5;124m엔\u001b[39m\u001b[38;5;124m\"\u001b[39m: \u001b[38;5;241m1.096\u001b[39m, \n\u001b[0;32m      4\u001b[0m         \u001b[38;5;124m\"\u001b[39m\u001b[38;5;124m유로\u001b[39m\u001b[38;5;124m\"\u001b[39m: \u001b[38;5;241m1268\u001b[39m, \n\u001b[0;32m      5\u001b[0m         \u001b[38;5;124m\"\u001b[39m\u001b[38;5;124m위안\u001b[39m\u001b[38;5;124m\"\u001b[39m: \u001b[38;5;241m171\u001b[39m}\n\u001b[0;32m      6\u001b[0m user \u001b[38;5;241m=\u001b[39m \u001b[38;5;28minput\u001b[39m(\u001b[38;5;124m\"\u001b[39m\u001b[38;5;124m입력: \u001b[39m\u001b[38;5;124m\"\u001b[39m)\n\u001b[1;32m----> 7\u001b[0m num, currency \u001b[38;5;241m=\u001b[39m user\u001b[38;5;241m.\u001b[39msplit()\n\u001b[0;32m      8\u001b[0m \u001b[38;5;28mprint\u001b[39m(\u001b[38;5;28mfloat\u001b[39m(num) \u001b[38;5;241m*\u001b[39m 환율[currency], \u001b[38;5;124m\"\u001b[39m\u001b[38;5;124m원\u001b[39m\u001b[38;5;124m\"\u001b[39m)\n",
      "\u001b[1;31mValueError\u001b[0m: not enough values to unpack (expected 2, got 1)"
     ]
    }
   ],
   "source": [
    "#123-2\n",
    "환율 = {\"달러\": 1167, \n",
    "        \"엔\": 1.096, \n",
    "        \"유로\": 1268, \n",
    "        \"위안\": 171}\n",
    "user = input(\"입력: \")\n",
    "num, currency = user.split()\n",
    "print(float(num) * 환율[currency], \"원\")\n",
    "# 이 풀이는 공백이 있어야지 작동한다.하지만 이게 더 효율적이기는 할듯"
   ]
  },
  {
   "cell_type": "code",
   "execution_count": 282,
   "id": "02032059",
   "metadata": {},
   "outputs": [
    {
     "name": "stdout",
     "output_type": "stream",
     "text": [
      "number1:10\n",
      "number2:9\n",
      "number3:20\n",
      "20\n"
     ]
    }
   ],
   "source": [
    "#124\n",
    "q1 = int(input('number1:'))\n",
    "q2 = int(input('number2:'))\n",
    "q3 = int(input('number3:'))\n",
    "\n",
    "print(max(q1,q2,q3))"
   ]
  },
  {
   "cell_type": "code",
   "execution_count": null,
   "id": "384cd0c9",
   "metadata": {},
   "outputs": [],
   "source": []
  }
 ],
 "metadata": {
  "kernelspec": {
   "display_name": "Python 3 (ipykernel)",
   "language": "python",
   "name": "python3"
  },
  "language_info": {
   "codemirror_mode": {
    "name": "ipython",
    "version": 3
   },
   "file_extension": ".py",
   "mimetype": "text/x-python",
   "name": "python",
   "nbconvert_exporter": "python",
   "pygments_lexer": "ipython3",
   "version": "3.9.9"
  },
  "toc": {
   "base_numbering": 1,
   "nav_menu": {},
   "number_sections": true,
   "sideBar": true,
   "skip_h1_title": false,
   "title_cell": "Table of Contents",
   "title_sidebar": "Contents",
   "toc_cell": false,
   "toc_position": {},
   "toc_section_display": true,
   "toc_window_display": false
  }
 },
 "nbformat": 4,
 "nbformat_minor": 5
}
